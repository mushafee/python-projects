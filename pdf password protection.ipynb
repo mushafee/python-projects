{
 "cells": [
  {
   "cell_type": "code",
   "execution_count": 1,
   "id": "b50dd09c",
   "metadata": {},
   "outputs": [
    {
     "name": "stdout",
     "output_type": "stream",
     "text": [
      "Requirement already satisfied: PyPDF2 in c:\\users\\dell\\anaconda3\\lib\\site-packages (2.5.0)\n",
      "Requirement already satisfied: typing-extensions in c:\\users\\dell\\anaconda3\\lib\\site-packages (from PyPDF2) (4.1.1)\n"
     ]
    }
   ],
   "source": [
    "!pip install PyPDF2\n",
    "from PyPDF2 import PdfFileReader,PdfFileWriter\n",
    "\n",
    "### open the current pdf\n",
    "file_pdf=PdfFileReader('pftp.pdf')\n",
    "### Object for pdf writer\n",
    "out_pdf=PdfFileWriter()\n",
    "\n",
    "file_pdf\n",
    "\n",
    "for i in range(file_pdf.numPages):\n",
    "    page_details=file_pdf.getPage(i)\n",
    "    ### Add to the output page\n",
    "    out_pdf.addPage(page_details)\n",
    "    \n",
    "password=\"mushaf123\"\n",
    "\n",
    "out_pdf.encrypt(password)\n",
    "\n",
    "with open(\"pftp1.pdf\",\"wb\") as filename:\n",
    "    out_pdf.write(filename)"
   ]
  },
  {
   "cell_type": "code",
   "execution_count": null,
   "id": "f1fe7c66",
   "metadata": {},
   "outputs": [],
   "source": []
  }
 ],
 "metadata": {
  "kernelspec": {
   "display_name": "Python 3 (ipykernel)",
   "language": "python",
   "name": "python3"
  },
  "language_info": {
   "codemirror_mode": {
    "name": "ipython",
    "version": 3
   },
   "file_extension": ".py",
   "mimetype": "text/x-python",
   "name": "python",
   "nbconvert_exporter": "python",
   "pygments_lexer": "ipython3",
   "version": "3.9.12"
  }
 },
 "nbformat": 4,
 "nbformat_minor": 5
}
